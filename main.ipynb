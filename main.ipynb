{
 "cells": [
  {
   "cell_type": "code",
   "execution_count": 17,
   "metadata": {},
   "outputs": [
    {
     "name": "stdout",
     "output_type": "stream",
     "text": [
      "('C:/Programs/tessdata/', ['eng'])\n"
     ]
    }
   ],
   "source": [
    "from tesserocr import get_languages, PyTessBaseAPI\n",
    "import cv2\n",
    "import matplotlib.pyplot as plt\n",
    "import numpy as np\n",
    "\n",
    "print(get_languages('C:/Programs/tessdata'))"
   ]
  },
  {
   "cell_type": "code",
   "execution_count": 22,
   "metadata": {},
   "outputs": [],
   "source": [
    "import requests\n",
    "import base64\n",
    "import bs4\n",
    "import matplotlib.pyplot as plt\n",
    "\n",
    "def get_captcha(filename):\n",
    "    url = \"https://service2.diplo.de/rktermin/extern/appointment_refreshCaptchamonth.do\"\n",
    "    data = {\n",
    "        \"action:appointment_refreshCaptchamonth\": \"Neues Bild laden\",\n",
    "        \"locationCode\": \"amst\",\n",
    "        \"realmId\": 1113,\n",
    "        \"categoryId\": 2662\n",
    "    }\n",
    "    headers = {\n",
    "        \"User-Agent\": \"Mozilla/5.0 (Windows NT 10.0; Win64; x64) AppleWebKit/537.36 (KHTML, like Gecko) Chrome/87.0.4280.88 Safari/537.36\",\n",
    "    }\n",
    "    response = requests.post(url, data, headers=headers)\n",
    "    soup = bs4.BeautifulSoup(response.text, \"html.parser\")\n",
    "    # get captcha name tag\n",
    "    captcha_div = soup.find(\"captcha\").find(\"div\")\n",
    "    # get style of captcha_div\n",
    "    style = captcha_div.attrs[\"style\"]\n",
    "    b64 = style.split(\",\")[1].split(\"')\")[0]\n",
    "    byt = base64.b64decode(b64)\n",
    "    # show captcha image\n",
    "    img = cv2.imdecode(np.frombuffer(byt, np.uint8), cv2.IMREAD_COLOR)\n",
    "    # save image in captcha folder\n",
    "    cv2.imwrite(filename, img)\n",
    "\n",
    "\n",
    "\n"
   ]
  },
  {
   "cell_type": "code",
   "execution_count": 23,
   "metadata": {},
   "outputs": [],
   "source": [
    "for i in range(50):\n",
    "    get_captcha(f\"captcha/{i}.jpg\")"
   ]
  },
  {
   "cell_type": "code",
   "execution_count": 13,
   "metadata": {},
   "outputs": [
    {
     "data": {
      "image/png": "[encoded data removed]",
      "text/plain": [
       "<Figure size 640x480 with 1 Axes>"
      ]
     },
     "metadata": {},
     "output_type": "display_data"
    },
    {
     "name": "stdout",
     "output_type": "stream",
     "text": [
      "| aen%hn\n",
      "\n",
      "[95, 5, 0]\n"
     ]
    }
   ],
   "source": [
    "img = cv2.imread(\"captcha/aen55n.jpg\", cv2.IMREAD_GRAYSCALE)\n",
    "\n",
    "thresh_gauss = cv2.adaptiveThreshold(img, 255, cv2.ADAPTIVE_THRESH_GAUSSIAN_C, cv2.THRESH_BINARY, 25, 4)\n",
    "ret, img = cv2.threshold(img, 0, 255, cv2.THRESH_BINARY_INV +cv2.THRESH_OTSU)\n",
    "\n",
    "# apply opening\n",
    "\n",
    "kernel_erode = np.ones((2, 2), np.uint8)\n",
    "kernel_dilate = np.ones((2, 2), np.uint8)\n",
    "img = cv2.dilate(img, kernel_dilate, iterations=1)\n",
    "img = cv2.erode(img, kernel_erode, iterations=3)\n",
    "\n",
    "plt.imshow(img, \"gray\")\n",
    "plt.show()\n",
    "cv2.imwrite(\"test.jpg\", img)\n",
    "\n",
    "\n",
    "with PyTessBaseAPI(path='C:/Programs/tessdata') as api:\n",
    "    img = \"test.jpg\"\n",
    "    api.SetImageFile(img)\n",
    "    print(api.GetUTF8Text())\n",
    "    print(api.AllWordConfidences())\n"
   ]
  }
 ],
 "metadata": {
  "kernelspec": {
   "display_name": "wardrobe-solver",
   "language": "python",
   "name": "python3"
  },
  "language_info": {
   "codemirror_mode": {
    "name": "ipython",
    "version": 3
   },
   "file_extension": ".py",
   "mimetype": "text/x-python",
   "name": "python",
   "nbconvert_exporter": "python",
   "pygments_lexer": "ipython3",
   "version": "3.10.6"
  },
  "orig_nbformat": 4
 },
 "nbformat": 4,
 "nbformat_minor": 2
}
